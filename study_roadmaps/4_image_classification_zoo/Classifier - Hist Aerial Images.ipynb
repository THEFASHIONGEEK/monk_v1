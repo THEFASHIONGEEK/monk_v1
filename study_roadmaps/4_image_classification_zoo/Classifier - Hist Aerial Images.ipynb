{
 "cells": [
  {
   "cell_type": "markdown",
   "metadata": {},
   "source": [
    "<a href=\"https://colab.research.google.com/github/Tessellate-Imaging/monk_v1/blob/master/study_roadmaps/4_image_classification_zoo/Classifier%20-%20Hist%20Aerial%20Images.ipynb\" target=\"_parent\"><img src=\"https://colab.research.google.com/assets/colab-badge.svg\" alt=\"Open In Colab\"/></a>"
   ]
  },
  {
   "cell_type": "code",
   "execution_count": null,
   "metadata": {},
   "outputs": [],
   "source": []
  },
  {
   "cell_type": "markdown",
   "metadata": {},
   "source": [
    "# Classification of Aerial Images"
   ]
  },
  {
   "cell_type": "markdown",
   "metadata": {},
   "source": [
    "First we need to install the MonkAI library"
   ]
  },
  {
   "cell_type": "markdown",
   "metadata": {},
   "source": [
    "# Install Monk"
   ]
  },
  {
   "cell_type": "markdown",
   "metadata": {},
   "source": [
    "## Using pip (Recommended)\n",
    "- colab (gpu)\n",
    "  - All bakcends: !pip install -U monk-colab\n",
    "- kaggle (gpu)\n",
    "  - All backends: !pip install -U monk-kaggle\n",
    "- cuda 10.2\n",
    "  - All backends: pip install -U monk-cuda102\n",
    "  - Gluon bakcned: pip install -U monk-gluon-cuda102\n",
    "  - Pytorch backend: pip install -U monk-pytorch-cuda102\n",
    "  - Keras backend: pip install -U monk-keras-cuda102\n",
    "- cuda 10.1\n",
    "  - All backend: pip install -U monk-cuda101\n",
    "  - Gluon bakcned: pip install -U monk-gluon-cuda101\n",
    "  - Pytorch backend: pip install -U monk-pytorch-cuda101\n",
    "  - Keras backend: pip install -U monk-keras-cuda101\n",
    "- cuda 10.0\n",
    "  - All backend: pip install -U monk-cuda100\n",
    "  - Gluon bakcned: pip install -U monk-gluon-cuda100\n",
    "  - Pytorch backend: pip install -U monk-pytorch-cuda100\n",
    "  - Keras backend: pip install -U monk-keras-cuda100\n",
    "- cuda 9.2\n",
    "  - All backend: pip install -U monk-cuda92\n",
    "  - Gluon bakcned: pip install -U monk-gluon-cuda92\n",
    "  - Pytorch backend: pip install -U monk-pytorch-cuda92\n",
    "  - Keras backend: pip install -U monk-keras-cuda92\n",
    "- cuda 9.0\n",
    "  - All backend: pip install -U monk-cuda90\n",
    "  - Gluon bakcned: pip install -U monk-gluon-cuda90\n",
    "  - Pytorch backend: pip install -U monk-pytorch-cuda90\n",
    "  - Keras backend: pip install -U monk-keras-cuda90\n",
    "- cpu\n",
    "  - All backend: pip install -U monk-cpu\n",
    "  - Gluon bakcned: pip install -U monk-gluon-cpu\n",
    "  - Pytorch backend: pip install -U monk-pytorch-cpu\n",
    "  - Keras backend: pip install -U monk-keras-cpu"
   ]
  },
  {
   "cell_type": "markdown",
   "metadata": {},
   "source": [
    "## Install Monk Manually (Not recommended)\n",
    "### Step 1: Clone the library\n",
    "- git clone https://github.com/Tessellate-Imaging/monk_v1.git\n",
    "\n",
    "### Step 2: Install requirements\n",
    "- Linux\n",
    "  - Cuda 9.0\n",
    "    - cd monk_v1/installation/Linux && pip install -r requirements_cu90.txt\n",
    "  - Cuda 9.2\n",
    "    - cd monk_v1/installation/Linux && pip install -r requirements_cu92.txt\n",
    "  - Cuda 10.0\n",
    "    - cd monk_v1/installation/Linux && pip install -r requirements_cu100.txt\n",
    "  - Cuda 10.1\n",
    "    - cd monk_v1/installation/Linux && pip install -r requirements_cu101.txt\n",
    "  - Cuda 10.2\n",
    "    - cd monk_v1/installation/Linux && pip install -r requirements_cu102.txt\n",
    "  - CPU (Non gpu system)\n",
    "    - cd monk_v1/installation/Linux && pip install -r requirements_cpu.txt\n",
    "- Windows\n",
    "    - Cuda 9.0 (Experimental support)\n",
    "      - cd monk_v1/installation/Windows && pip install -r requirements_cu90.txt\n",
    "    - Cuda 9.2 (Experimental support)\n",
    "      - cd monk_v1/installation/Windows && pip install -r requirements_cu92.txt\n",
    "    - Cuda 10.0 (Experimental support)\n",
    "      - cd monk_v1/installation/Windows && pip install -r requirements_cu100.txt\n",
    "    - Cuda 10.1 (Experimental support)\n",
    "      - cd monk_v1/installation/Windows && pip install -r requirements_cu101.txt\n",
    "    - Cuda 10.2 (Experimental support)\n",
    "      - cd monk_v1/installation/Windows && pip install -r requirements_cu102.txt\n",
    "    - CPU (Non gpu system)\n",
    "      - cd monk_v1/installation/Windows && pip install -r requirements_cpu.txt\n",
    "- Mac\n",
    "    - CPU (Non gpu system)\n",
    "      - cd monk_v1/installation/Mac && pip install -r requirements_cpu.txt\n",
    "- Misc\n",
    "    - Colab (GPU)\n",
    "      - cd monk_v1/installation/Misc && pip install -r requirements_colab.txt\n",
    "    - Kaggle (GPU)\n",
    "      - cd monk_v1/installation/Misc && pip install -r requirements_kaggle.txt\n",
    "\n",
    "### Step 3: Add to system path (Required for every terminal or kernel run)\n",
    "\n",
    "```python\n",
    "import sys\n",
    "sys.path.append(\"monk_v1/\")\n",
    "```\n"
   ]
  },
  {
   "cell_type": "code",
   "execution_count": 1,
   "metadata": {},
   "outputs": [
    {
     "name": "stdout",
     "output_type": "stream",
     "text": [
      "Requirement already up-to-date: monk-pytorch-cuda101 in /home/ubuntu/anaconda3/lib/python3.8/site-packages (0.0.1)\n",
      "Requirement already satisfied, skipping upgrade: pillow==6.0.0 in /home/ubuntu/anaconda3/lib/python3.8/site-packages (from monk-pytorch-cuda101) (6.0.0)\n",
      "Requirement already satisfied, skipping upgrade: psutil in /home/ubuntu/anaconda3/lib/python3.8/site-packages (from monk-pytorch-cuda101) (5.7.0)\n",
      "Requirement already satisfied, skipping upgrade: pylg in /home/ubuntu/anaconda3/lib/python3.8/site-packages (from monk-pytorch-cuda101) (1.3.3)\n",
      "Requirement already satisfied, skipping upgrade: tabulate in /home/ubuntu/anaconda3/lib/python3.8/site-packages (from monk-pytorch-cuda101) (0.8.7)\n",
      "Requirement already satisfied, skipping upgrade: pandas in /home/ubuntu/anaconda3/lib/python3.8/site-packages (from monk-pytorch-cuda101) (1.0.5)\n",
      "Requirement already satisfied, skipping upgrade: networkx in /home/ubuntu/anaconda3/lib/python3.8/site-packages (from monk-pytorch-cuda101) (2.4)\n",
      "Requirement already satisfied, skipping upgrade: torchvision==0.5.0 in /home/ubuntu/anaconda3/lib/python3.8/site-packages (from monk-pytorch-cuda101) (0.5.0)\n",
      "Requirement already satisfied, skipping upgrade: scikit-image in /home/ubuntu/anaconda3/lib/python3.8/site-packages (from monk-pytorch-cuda101) (0.16.2)\n",
      "Requirement already satisfied, skipping upgrade: GPUtil in /home/ubuntu/anaconda3/lib/python3.8/site-packages (from monk-pytorch-cuda101) (1.4.0)\n",
      "Requirement already satisfied, skipping upgrade: scipy in /home/ubuntu/anaconda3/lib/python3.8/site-packages (from monk-pytorch-cuda101) (1.5.0)\n",
      "Requirement already satisfied, skipping upgrade: matplotlib in /home/ubuntu/anaconda3/lib/python3.8/site-packages (from monk-pytorch-cuda101) (3.2.2)\n",
      "Requirement already satisfied, skipping upgrade: opencv-python in /home/ubuntu/anaconda3/lib/python3.8/site-packages (from monk-pytorch-cuda101) (4.4.0.42)\n",
      "Requirement already satisfied, skipping upgrade: tqdm in /home/ubuntu/anaconda3/lib/python3.8/site-packages (from monk-pytorch-cuda101) (4.47.0)\n",
      "Requirement already satisfied, skipping upgrade: netron in /home/ubuntu/anaconda3/lib/python3.8/site-packages (from monk-pytorch-cuda101) (4.4.6)\n",
      "Requirement already satisfied, skipping upgrade: ipywidgets in /home/ubuntu/anaconda3/lib/python3.8/site-packages (from monk-pytorch-cuda101) (7.5.1)\n",
      "Requirement already satisfied, skipping upgrade: gpustat in /home/ubuntu/anaconda3/lib/python3.8/site-packages (from monk-pytorch-cuda101) (0.6.0)\n",
      "Requirement already satisfied, skipping upgrade: scikit-learn in /home/ubuntu/anaconda3/lib/python3.8/site-packages (from monk-pytorch-cuda101) (0.23.1)\n",
      "Requirement already satisfied, skipping upgrade: torch==1.4.0 in /home/ubuntu/anaconda3/lib/python3.8/site-packages (from monk-pytorch-cuda101) (1.4.0)\n",
      "Requirement already satisfied, skipping upgrade: python-dateutil>=2.6.1 in /home/ubuntu/anaconda3/lib/python3.8/site-packages (from pandas->monk-pytorch-cuda101) (2.8.1)\n",
      "Requirement already satisfied, skipping upgrade: pytz>=2017.2 in /home/ubuntu/anaconda3/lib/python3.8/site-packages (from pandas->monk-pytorch-cuda101) (2020.1)\n",
      "Requirement already satisfied, skipping upgrade: numpy>=1.13.3 in /home/ubuntu/anaconda3/lib/python3.8/site-packages (from pandas->monk-pytorch-cuda101) (1.18.5)\n",
      "Requirement already satisfied, skipping upgrade: decorator>=4.3.0 in /home/ubuntu/anaconda3/lib/python3.8/site-packages (from networkx->monk-pytorch-cuda101) (4.4.2)\n",
      "Requirement already satisfied, skipping upgrade: six in /home/ubuntu/anaconda3/lib/python3.8/site-packages (from torchvision==0.5.0->monk-pytorch-cuda101) (1.15.0)\n",
      "Requirement already satisfied, skipping upgrade: PyWavelets>=0.4.0 in /home/ubuntu/anaconda3/lib/python3.8/site-packages (from scikit-image->monk-pytorch-cuda101) (1.1.1)\n",
      "Requirement already satisfied, skipping upgrade: imageio>=2.3.0 in /home/ubuntu/anaconda3/lib/python3.8/site-packages (from scikit-image->monk-pytorch-cuda101) (2.9.0)\n",
      "Requirement already satisfied, skipping upgrade: cycler>=0.10 in /home/ubuntu/anaconda3/lib/python3.8/site-packages (from matplotlib->monk-pytorch-cuda101) (0.10.0)\n",
      "Requirement already satisfied, skipping upgrade: kiwisolver>=1.0.1 in /home/ubuntu/anaconda3/lib/python3.8/site-packages (from matplotlib->monk-pytorch-cuda101) (1.2.0)\n",
      "Requirement already satisfied, skipping upgrade: pyparsing!=2.0.4,!=2.1.2,!=2.1.6,>=2.0.1 in /home/ubuntu/anaconda3/lib/python3.8/site-packages (from matplotlib->monk-pytorch-cuda101) (2.4.7)\n",
      "Requirement already satisfied, skipping upgrade: traitlets>=4.3.1 in /home/ubuntu/anaconda3/lib/python3.8/site-packages (from ipywidgets->monk-pytorch-cuda101) (4.3.3)\n",
      "Requirement already satisfied, skipping upgrade: ipython>=4.0.0; python_version >= \"3.3\" in /home/ubuntu/anaconda3/lib/python3.8/site-packages (from ipywidgets->monk-pytorch-cuda101) (7.16.1)\n",
      "Requirement already satisfied, skipping upgrade: widgetsnbextension~=3.5.0 in /home/ubuntu/anaconda3/lib/python3.8/site-packages (from ipywidgets->monk-pytorch-cuda101) (3.5.1)\n",
      "Requirement already satisfied, skipping upgrade: ipykernel>=4.5.1 in /home/ubuntu/anaconda3/lib/python3.8/site-packages (from ipywidgets->monk-pytorch-cuda101) (5.3.2)\n",
      "Requirement already satisfied, skipping upgrade: nbformat>=4.2.0 in /home/ubuntu/anaconda3/lib/python3.8/site-packages (from ipywidgets->monk-pytorch-cuda101) (5.0.7)\n",
      "Requirement already satisfied, skipping upgrade: nvidia-ml-py3>=7.352.0 in /home/ubuntu/anaconda3/lib/python3.8/site-packages (from gpustat->monk-pytorch-cuda101) (7.352.0)\n",
      "Requirement already satisfied, skipping upgrade: blessings>=1.6 in /home/ubuntu/anaconda3/lib/python3.8/site-packages (from gpustat->monk-pytorch-cuda101) (1.7)\n",
      "Requirement already satisfied, skipping upgrade: threadpoolctl>=2.0.0 in /home/ubuntu/anaconda3/lib/python3.8/site-packages (from scikit-learn->monk-pytorch-cuda101) (2.1.0)\n",
      "Requirement already satisfied, skipping upgrade: joblib>=0.11 in /home/ubuntu/anaconda3/lib/python3.8/site-packages (from scikit-learn->monk-pytorch-cuda101) (0.16.0)\n",
      "Requirement already satisfied, skipping upgrade: ipython-genutils in /home/ubuntu/anaconda3/lib/python3.8/site-packages (from traitlets>=4.3.1->ipywidgets->monk-pytorch-cuda101) (0.2.0)\n",
      "Requirement already satisfied, skipping upgrade: pexpect; sys_platform != \"win32\" in /home/ubuntu/anaconda3/lib/python3.8/site-packages (from ipython>=4.0.0; python_version >= \"3.3\"->ipywidgets->monk-pytorch-cuda101) (4.8.0)\n",
      "Requirement already satisfied, skipping upgrade: backcall in /home/ubuntu/anaconda3/lib/python3.8/site-packages (from ipython>=4.0.0; python_version >= \"3.3\"->ipywidgets->monk-pytorch-cuda101) (0.2.0)\n",
      "Requirement already satisfied, skipping upgrade: setuptools>=18.5 in /home/ubuntu/anaconda3/lib/python3.8/site-packages (from ipython>=4.0.0; python_version >= \"3.3\"->ipywidgets->monk-pytorch-cuda101) (49.2.0.post20200714)\n",
      "Requirement already satisfied, skipping upgrade: pickleshare in /home/ubuntu/anaconda3/lib/python3.8/site-packages (from ipython>=4.0.0; python_version >= \"3.3\"->ipywidgets->monk-pytorch-cuda101) (0.7.5)\n",
      "Requirement already satisfied, skipping upgrade: jedi>=0.10 in /home/ubuntu/anaconda3/lib/python3.8/site-packages (from ipython>=4.0.0; python_version >= \"3.3\"->ipywidgets->monk-pytorch-cuda101) (0.17.1)\n",
      "Requirement already satisfied, skipping upgrade: prompt-toolkit!=3.0.0,!=3.0.1,<3.1.0,>=2.0.0 in /home/ubuntu/anaconda3/lib/python3.8/site-packages (from ipython>=4.0.0; python_version >= \"3.3\"->ipywidgets->monk-pytorch-cuda101) (3.0.5)\n",
      "Requirement already satisfied, skipping upgrade: pygments in /home/ubuntu/anaconda3/lib/python3.8/site-packages (from ipython>=4.0.0; python_version >= \"3.3\"->ipywidgets->monk-pytorch-cuda101) (2.6.1)\n",
      "Requirement already satisfied, skipping upgrade: notebook>=4.4.1 in /home/ubuntu/anaconda3/lib/python3.8/site-packages (from widgetsnbextension~=3.5.0->ipywidgets->monk-pytorch-cuda101) (6.0.3)\n",
      "Requirement already satisfied, skipping upgrade: jupyter-client in /home/ubuntu/anaconda3/lib/python3.8/site-packages (from ipykernel>=4.5.1->ipywidgets->monk-pytorch-cuda101) (6.1.6)\n",
      "Requirement already satisfied, skipping upgrade: tornado>=4.2 in /home/ubuntu/anaconda3/lib/python3.8/site-packages (from ipykernel>=4.5.1->ipywidgets->monk-pytorch-cuda101) (6.0.4)\n",
      "Requirement already satisfied, skipping upgrade: jsonschema!=2.5.0,>=2.4 in /home/ubuntu/anaconda3/lib/python3.8/site-packages (from nbformat>=4.2.0->ipywidgets->monk-pytorch-cuda101) (3.2.0)\n",
      "Requirement already satisfied, skipping upgrade: jupyter-core in /home/ubuntu/anaconda3/lib/python3.8/site-packages (from nbformat>=4.2.0->ipywidgets->monk-pytorch-cuda101) (4.6.3)\n",
      "Requirement already satisfied, skipping upgrade: ptyprocess>=0.5 in /home/ubuntu/anaconda3/lib/python3.8/site-packages (from pexpect; sys_platform != \"win32\"->ipython>=4.0.0; python_version >= \"3.3\"->ipywidgets->monk-pytorch-cuda101) (0.6.0)\n",
      "Requirement already satisfied, skipping upgrade: parso<0.8.0,>=0.7.0 in /home/ubuntu/anaconda3/lib/python3.8/site-packages (from jedi>=0.10->ipython>=4.0.0; python_version >= \"3.3\"->ipywidgets->monk-pytorch-cuda101) (0.7.0)\n",
      "Requirement already satisfied, skipping upgrade: wcwidth in /home/ubuntu/anaconda3/lib/python3.8/site-packages (from prompt-toolkit!=3.0.0,!=3.0.1,<3.1.0,>=2.0.0->ipython>=4.0.0; python_version >= \"3.3\"->ipywidgets->monk-pytorch-cuda101) (0.2.5)\n",
      "Requirement already satisfied, skipping upgrade: Send2Trash in /home/ubuntu/anaconda3/lib/python3.8/site-packages (from notebook>=4.4.1->widgetsnbextension~=3.5.0->ipywidgets->monk-pytorch-cuda101) (1.5.0)\n",
      "Requirement already satisfied, skipping upgrade: prometheus-client in /home/ubuntu/anaconda3/lib/python3.8/site-packages (from notebook>=4.4.1->widgetsnbextension~=3.5.0->ipywidgets->monk-pytorch-cuda101) (0.8.0)\n",
      "Requirement already satisfied, skipping upgrade: terminado>=0.8.1 in /home/ubuntu/anaconda3/lib/python3.8/site-packages (from notebook>=4.4.1->widgetsnbextension~=3.5.0->ipywidgets->monk-pytorch-cuda101) (0.8.3)\n",
      "Requirement already satisfied, skipping upgrade: pyzmq>=17 in /home/ubuntu/anaconda3/lib/python3.8/site-packages (from notebook>=4.4.1->widgetsnbextension~=3.5.0->ipywidgets->monk-pytorch-cuda101) (19.0.1)\n",
      "Requirement already satisfied, skipping upgrade: nbconvert in /home/ubuntu/anaconda3/lib/python3.8/site-packages (from notebook>=4.4.1->widgetsnbextension~=3.5.0->ipywidgets->monk-pytorch-cuda101) (5.6.1)\n",
      "Requirement already satisfied, skipping upgrade: jinja2 in /home/ubuntu/anaconda3/lib/python3.8/site-packages (from notebook>=4.4.1->widgetsnbextension~=3.5.0->ipywidgets->monk-pytorch-cuda101) (2.11.2)\n",
      "Requirement already satisfied, skipping upgrade: pyrsistent>=0.14.0 in /home/ubuntu/anaconda3/lib/python3.8/site-packages (from jsonschema!=2.5.0,>=2.4->nbformat>=4.2.0->ipywidgets->monk-pytorch-cuda101) (0.16.0)\n",
      "Requirement already satisfied, skipping upgrade: attrs>=17.4.0 in /home/ubuntu/anaconda3/lib/python3.8/site-packages (from jsonschema!=2.5.0,>=2.4->nbformat>=4.2.0->ipywidgets->monk-pytorch-cuda101) (19.3.0)\n",
      "Requirement already satisfied, skipping upgrade: bleach in /home/ubuntu/anaconda3/lib/python3.8/site-packages (from nbconvert->notebook>=4.4.1->widgetsnbextension~=3.5.0->ipywidgets->monk-pytorch-cuda101) (3.1.5)\n",
      "Requirement already satisfied, skipping upgrade: entrypoints>=0.2.2 in /home/ubuntu/anaconda3/lib/python3.8/site-packages (from nbconvert->notebook>=4.4.1->widgetsnbextension~=3.5.0->ipywidgets->monk-pytorch-cuda101) (0.3)\n",
      "Requirement already satisfied, skipping upgrade: pandocfilters>=1.4.1 in /home/ubuntu/anaconda3/lib/python3.8/site-packages (from nbconvert->notebook>=4.4.1->widgetsnbextension~=3.5.0->ipywidgets->monk-pytorch-cuda101) (1.4.2)\n",
      "Requirement already satisfied, skipping upgrade: mistune<2,>=0.8.1 in /home/ubuntu/anaconda3/lib/python3.8/site-packages (from nbconvert->notebook>=4.4.1->widgetsnbextension~=3.5.0->ipywidgets->monk-pytorch-cuda101) (0.8.4)\n",
      "Requirement already satisfied, skipping upgrade: defusedxml in /home/ubuntu/anaconda3/lib/python3.8/site-packages (from nbconvert->notebook>=4.4.1->widgetsnbextension~=3.5.0->ipywidgets->monk-pytorch-cuda101) (0.6.0)\n",
      "Requirement already satisfied, skipping upgrade: testpath in /home/ubuntu/anaconda3/lib/python3.8/site-packages (from nbconvert->notebook>=4.4.1->widgetsnbextension~=3.5.0->ipywidgets->monk-pytorch-cuda101) (0.4.4)\n",
      "Requirement already satisfied, skipping upgrade: MarkupSafe>=0.23 in /home/ubuntu/anaconda3/lib/python3.8/site-packages (from jinja2->notebook>=4.4.1->widgetsnbextension~=3.5.0->ipywidgets->monk-pytorch-cuda101) (1.1.1)\n",
      "Requirement already satisfied, skipping upgrade: packaging in /home/ubuntu/anaconda3/lib/python3.8/site-packages (from bleach->nbconvert->notebook>=4.4.1->widgetsnbextension~=3.5.0->ipywidgets->monk-pytorch-cuda101) (20.4)\n",
      "Requirement already satisfied, skipping upgrade: webencodings in /home/ubuntu/anaconda3/lib/python3.8/site-packages (from bleach->nbconvert->notebook>=4.4.1->widgetsnbextension~=3.5.0->ipywidgets->monk-pytorch-cuda101) (0.5.1)\n",
      "Note: you may need to restart the kernel to use updated packages.\n"
     ]
    }
   ],
   "source": [
    "!pip install -U monk-pytorch-cuda101"
   ]
  },
  {
   "cell_type": "markdown",
   "metadata": {},
   "source": [
    "# Setting up the library,to perform classification"
   ]
  },
  {
   "cell_type": "markdown",
   "metadata": {},
   "source": [
    "## Testing the model "
   ]
  },
  {
   "cell_type": "code",
   "execution_count": 2,
   "metadata": {},
   "outputs": [],
   "source": [
    "#Using pytorch backend \n",
    "\n",
    "# When installed using pip\n",
    "from monk.pytorch_prototype import prototype"
   ]
  },
  {
   "cell_type": "markdown",
   "metadata": {},
   "source": [
    "## Performing Classification"
   ]
  },
  {
   "cell_type": "markdown",
   "metadata": {},
   "source": [
    "### Loading the trained model"
   ]
  },
  {
   "cell_type": "code",
   "execution_count": 1,
   "metadata": {},
   "outputs": [
    {
     "name": "stdout",
     "output_type": "stream",
     "text": [
      "--2020-08-20 18:05:13--  https://docs.google.com/uc?export=download&id=1NDnEnVuHMPIZqBG4gxd7H7fzXWzmFx8K\n",
      "Resolving docs.google.com (docs.google.com)... 172.217.8.174, 2607:f8b0:4009:804::200e\n",
      "Connecting to docs.google.com (docs.google.com)|172.217.8.174|:443... connected.\n",
      "HTTP request sent, awaiting response... 200 OK\n",
      "Length: unspecified [text/html]\n",
      "Saving to: ‘STDOUT’\n",
      "\n",
      "-                       [ <=>                ]   3.18K  --.-KB/s    in 0s      \n",
      "\n",
      "2020-08-20 18:05:14 (48.3 MB/s) - written to stdout [3259]\n",
      "\n",
      "--2020-08-20 18:05:14--  https://docs.google.com/uc?export=download&confirm=PmED&id=1NDnEnVuHMPIZqBG4gxd7H7fzXWzmFx8K\n",
      "Resolving docs.google.com (docs.google.com)... 172.217.8.174, 2607:f8b0:4009:804::200e\n",
      "Connecting to docs.google.com (docs.google.com)|172.217.8.174|:443... connected.\n",
      "HTTP request sent, awaiting response... 302 Moved Temporarily\n",
      "Location: https://doc-14-1s-docs.googleusercontent.com/docs/securesc/g209gatlt2m521oq0tieuuvna6touohi/7lhq5bo6baup8dggd0m6hsbmvjnq2n71/1597946700000/10938243485722110558/01838026380844420129Z/1NDnEnVuHMPIZqBG4gxd7H7fzXWzmFx8K?e=download [following]\n",
      "--2020-08-20 18:05:14--  https://doc-14-1s-docs.googleusercontent.com/docs/securesc/g209gatlt2m521oq0tieuuvna6touohi/7lhq5bo6baup8dggd0m6hsbmvjnq2n71/1597946700000/10938243485722110558/01838026380844420129Z/1NDnEnVuHMPIZqBG4gxd7H7fzXWzmFx8K?e=download\n",
      "Resolving doc-14-1s-docs.googleusercontent.com (doc-14-1s-docs.googleusercontent.com)... 172.217.4.65, 2607:f8b0:4009:812::2001\n",
      "Connecting to doc-14-1s-docs.googleusercontent.com (doc-14-1s-docs.googleusercontent.com)|172.217.4.65|:443... connected.\n",
      "HTTP request sent, awaiting response... 302 Found\n",
      "Location: https://docs.google.com/nonceSigner?nonce=l2olv0u7bg8hi&continue=https://doc-14-1s-docs.googleusercontent.com/docs/securesc/g209gatlt2m521oq0tieuuvna6touohi/7lhq5bo6baup8dggd0m6hsbmvjnq2n71/1597946700000/10938243485722110558/01838026380844420129Z/1NDnEnVuHMPIZqBG4gxd7H7fzXWzmFx8K?e%3Ddownload&hash=uffdq1clbdsjv201qh3255dnbuaptle4 [following]\n",
      "--2020-08-20 18:05:14--  https://docs.google.com/nonceSigner?nonce=l2olv0u7bg8hi&continue=https://doc-14-1s-docs.googleusercontent.com/docs/securesc/g209gatlt2m521oq0tieuuvna6touohi/7lhq5bo6baup8dggd0m6hsbmvjnq2n71/1597946700000/10938243485722110558/01838026380844420129Z/1NDnEnVuHMPIZqBG4gxd7H7fzXWzmFx8K?e%3Ddownload&hash=uffdq1clbdsjv201qh3255dnbuaptle4\n",
      "Connecting to docs.google.com (docs.google.com)|172.217.8.174|:443... connected.\n",
      "HTTP request sent, awaiting response... 302 Found\n",
      "Location: https://doc-14-1s-docs.googleusercontent.com/docs/securesc/g209gatlt2m521oq0tieuuvna6touohi/7lhq5bo6baup8dggd0m6hsbmvjnq2n71/1597946700000/10938243485722110558/01838026380844420129Z/1NDnEnVuHMPIZqBG4gxd7H7fzXWzmFx8K?e=download&nonce=l2olv0u7bg8hi&user=01838026380844420129Z&hash=gon4kvhds38p7qdmssk9viaae3p0ufgf [following]\n",
      "--2020-08-20 18:05:14--  https://doc-14-1s-docs.googleusercontent.com/docs/securesc/g209gatlt2m521oq0tieuuvna6touohi/7lhq5bo6baup8dggd0m6hsbmvjnq2n71/1597946700000/10938243485722110558/01838026380844420129Z/1NDnEnVuHMPIZqBG4gxd7H7fzXWzmFx8K?e=download&nonce=l2olv0u7bg8hi&user=01838026380844420129Z&hash=gon4kvhds38p7qdmssk9viaae3p0ufgf\n",
      "Connecting to doc-14-1s-docs.googleusercontent.com (doc-14-1s-docs.googleusercontent.com)|172.217.4.65|:443... connected.\n",
      "HTTP request sent, awaiting response... 200 OK\n",
      "Length: unspecified [application/zip]\n",
      "Saving to: ‘cls_aerial_trained.zip’\n",
      "\n",
      "cls_aerial_trained.     [  <=>               ] 677.51M  3.00MB/s    in 3m 48s  \n",
      "\n",
      "2020-08-20 18:09:03 (2.97 MB/s) - ‘cls_aerial_trained.zip’ saved [710426174]\n",
      "\n"
     ]
    }
   ],
   "source": [
    " ! wget --load-cookies /tmp/cookies.txt \"https://docs.google.com/uc?export=download&confirm=$(wget --save-cookies /tmp/cookies.txt --keep-session-cookies --no-check-certificate 'https://docs.google.com/uc?export=download&id=1NDnEnVuHMPIZqBG4gxd7H7fzXWzmFx8K' -O- | sed -rn 's/.*confirm=([0-9A-Za-z_]+).*/\\1\\n/p')&id=1NDnEnVuHMPIZqBG4gxd7H7fzXWzmFx8K\" -O cls_aerial_trained.zip && rm -rf /tmp/cookies.txt"
   ]
  },
  {
   "cell_type": "code",
   "execution_count": 11,
   "metadata": {},
   "outputs": [],
   "source": [
    "! unzip -qq cls_aerial_trained.zip"
   ]
  },
  {
   "cell_type": "markdown",
   "metadata": {},
   "source": [
    "### Initializing the trained model"
   ]
  },
  {
   "cell_type": "code",
   "execution_count": 13,
   "metadata": {},
   "outputs": [
    {
     "name": "stdout",
     "output_type": "stream",
     "text": [
      "Pytorch Version: 1.4.0\n",
      "\n",
      "Model Details\n",
      "    Loading model - workspace/Aerial-Image-Classifier/Alexnet/output/models/final\n",
      "    Model loaded!\n",
      "\n",
      "Experiment Details\n",
      "    Project: Aerial-Image-Classifier\n",
      "    Experiment: Alexnet\n",
      "    Dir: /home/ubuntu/Desktop/Aerial_Image_Classification/workspace/Aerial-Image-Classifier/Alexnet/\n",
      "\n"
     ]
    }
   ],
   "source": [
    "gtf = prototype(verbose=1);\n",
    "gtf.Prototype(\"Aerial-Image-Classifier\", \"Alexnet\", eval_infer=True);\n",
    "\n",
    "#Use gtf.Prototype(\"Aerial-Image-Classifier\", \"VGG16\", eval_infer=True); \n",
    "# To use the other model"
   ]
  },
  {
   "cell_type": "markdown",
   "metadata": {},
   "source": [
    "### Testing the model on images"
   ]
  },
  {
   "cell_type": "code",
   "execution_count": 15,
   "metadata": {},
   "outputs": [
    {
     "name": "stdout",
     "output_type": "stream",
     "text": [
      "Prediction\n",
      "    Image name:         workspace/Test images/0_70x23.png\n",
      "    Predicted class:      EAUX\n",
      "    Predicted score:      0.9836484789848328\n",
      "\n"
     ]
    },
    {
     "data": {
      "image/png": "[encoded data removed]",
      "text/plain": [
       "<IPython.core.display.Image object>"
      ]
     },
     "execution_count": 15,
     "metadata": {
      "image/png": {
       "height": 300,
       "width": 300
      }
     },
     "output_type": "execute_result"
    }
   ],
   "source": [
    "img_name = \"workspace/Test images/0_70x23.png\";\n",
    "predictions = gtf.Infer(img_name=img_name);\n",
    "\n",
    "#Display \n",
    "from IPython.display import Image\n",
    "Image(filename=img_name,width=300, height=300)"
   ]
  },
  {
   "cell_type": "code",
   "execution_count": 18,
   "metadata": {
    "scrolled": true
   },
   "outputs": [
    {
     "name": "stdout",
     "output_type": "stream",
     "text": [
      "Prediction\n",
      "    Image name:         workspace/Test images/0_35x20.png\n",
      "    Predicted class:      FORETSDENSES\n",
      "    Predicted score:      0.9810529947280884\n",
      "\n"
     ]
    },
    {
     "data": {
      "image/png": "[encoded data removed]",
      "text/plain": [
       "<IPython.core.display.Image object>"
      ]
     },
     "execution_count": 18,
     "metadata": {
      "image/png": {
       "height": 300,
       "width": 300
      }
     },
     "output_type": "execute_result"
    }
   ],
   "source": [
    "img_name = \"workspace/Test images/0_35x20.png\";\n",
    "predictions = gtf.Infer(img_name=img_name);\n",
    "\n",
    "#Display \n",
    "from IPython.display import Image\n",
    "Image(filename=img_name,width=300, height=300)"
   ]
  },
  {
   "cell_type": "markdown",
   "metadata": {},
   "source": [
    "# Creating the classifier, from start"
   ]
  },
  {
   "cell_type": "markdown",
   "metadata": {},
   "source": [
    "## Initializing the project"
   ]
  },
  {
   "cell_type": "markdown",
   "metadata": {},
   "source": [
    "<p> First the pre-trained Alexnet model is used, as according to the research paper titled <a href=\"http://eidolon.univ-lyon2.fr/~remi1/HistAerialDataset/paper/ratajczak2019-tip-preprint.pdf\" >\"Automatic Land Cover Reconstruction From Historical AerialImages: An Evaluation of Features Extraction and ClassificationAlgorithms</a>. Using the Alexnet model architecture, gives higher accuracy</p>"
   ]
  },
  {
   "cell_type": "code",
   "execution_count": 2,
   "metadata": {},
   "outputs": [
    {
     "name": "stdout",
     "output_type": "stream",
     "text": [
      "Pytorch Version: 1.4.0\n",
      "\n",
      "Experiment Details\n",
      "    Project: Aerial-Image-Classifier\n",
      "    Experiment: Alexnet\n",
      "    Dir: /home/ubuntu/Desktop/Aerial_Image_Classification/workspace/Aerial-Image-Classifier/Alexnet/\n",
      "\n"
     ]
    }
   ],
   "source": [
    "gtf = prototype(verbose=1);\n",
    "gtf.Prototype(\"Aerial-Image-Classifier\", \"Alexnet\");"
   ]
  },
  {
   "cell_type": "markdown",
   "metadata": {},
   "source": [
    "# Download Dataset\n",
    " - Credits: <a href=\" http://eidolon.univ-lyon2.fr/~remi1/HistAerialDataset/\">i http://eidolon.univ-lyon2.fr/~remi1/HistAerialDataset/</a>"
   ]
  },
  {
   "cell_type": "markdown",
   "metadata": {},
   "source": [
    "### About the Dataset\n",
    "\n",
    "The HistAerial dataset was built from grayscale images representing 9 square kilometer areas (~ 6k per 6k pixels per image). These images were acquired between 1970 and 1990 over the France country (mainly in Rhones-Alpes region) with an optical camera mounted on an aircraft system."
   ]
  },
  {
   "cell_type": "code",
   "execution_count": null,
   "metadata": {},
   "outputs": [],
   "source": [
    "#To download the data\n",
    "\n",
    "!wget http://eidolon.univ-lyon2.fr/~remi1/HistAerialDataset/dataset/HistAerialDataset.zip"
   ]
  },
  {
   "cell_type": "code",
   "execution_count": null,
   "metadata": {},
   "outputs": [],
   "source": [
    "#Unzip the dataset\n",
    "\n",
    "!unzip HistAerialDataset.zip"
   ]
  },
  {
   "cell_type": "markdown",
   "metadata": {},
   "source": [
    "## Data preparation"
   ]
  },
  {
   "cell_type": "markdown",
   "metadata": {},
   "source": [
    "<p> The images are available in 100x100 or 25x25, for this we are using the 100x100 images.Available under the \"100x100_overlap_0percent\" folder.</p>\n"
   ]
  },
  {
   "cell_type": "code",
   "execution_count": null,
   "metadata": {},
   "outputs": [],
   "source": [
    "# Reading the labels data for train,test and validation images\n",
    "\n",
    "import pandas as pd\n",
    "\n",
    "labels_tags = pd.read_csv(\"labels.txt\",sep=\" \",header=None) #information about classes\n",
    "train_data = pd.read_csv(\"train6k.txt\",sep=\" \",header=None) #train_images and labels\n",
    "val_data = pd.read_csv(\"val6k.txt\",sep=\" \",header=None) #validation images and labels\n",
    "test_data = pd.read_csv(\"test6k.txt\",sep=\" \",header=None)#test images and labels\n"
   ]
  },
  {
   "cell_type": "markdown",
   "metadata": {},
   "source": [
    "## Preparing the train data"
   ]
  },
  {
   "cell_type": "code",
   "execution_count": null,
   "metadata": {},
   "outputs": [],
   "source": [
    "mkdir train_data"
   ]
  },
  {
   "cell_type": "code",
   "execution_count": null,
   "metadata": {},
   "outputs": [],
   "source": [
    "#Preparing the train data\n",
    "\n",
    "import glob\n",
    "import shutil\n",
    "import os\n",
    "\n",
    "src_dir = \"/home/ubuntu/Desktop/Aerial_Image_Classification/100x100_overlap_0percent/\"\n",
    "dst_dir = \"/home/ubuntu/Desktop/Aerial_Image_Classification/100x100_overlap_0percent/train_data\"\n",
    "for i in range(len(train_data)):\n",
    "    \n",
    "    file_name = src_dir + train_data[0][i]\n",
    "    shutil.copy(file_name , dst_dir)"
   ]
  },
  {
   "cell_type": "code",
   "execution_count": null,
   "metadata": {},
   "outputs": [],
   "source": [
    "for i in range(len(train_data)):\n",
    "    train_data[0][i]=train_data[0][i][train_data[0][i].index('/')+1:]\n",
    "    train_data[1][i]=labels_tags[0][train_data[1][i]]"
   ]
  },
  {
   "cell_type": "code",
   "execution_count": null,
   "metadata": {},
   "outputs": [],
   "source": [
    "train_data.columns = ['ID', 'Labels'] \n",
    "pd.read_csv(\"train_labels.csv\")\n"
   ]
  },
  {
   "attachments": {
    "image.png": {
     "image/png": "[encoded data removed]"
    }
   },
   "cell_type": "markdown",
   "metadata": {},
   "source": [
    "![image.png](attachment:image.png)"
   ]
  },
  {
   "cell_type": "markdown",
   "metadata": {},
   "source": [
    "## Preparing the validation data"
   ]
  },
  {
   "cell_type": "code",
   "execution_count": null,
   "metadata": {},
   "outputs": [],
   "source": [
    "mkdir val_images"
   ]
  },
  {
   "cell_type": "code",
   "execution_count": null,
   "metadata": {},
   "outputs": [],
   "source": [
    "#preparing the validation data\n",
    "\n",
    "src_dir = \"/home/ubuntu/Desktop/Aerial_Image_Classification/100x100_overlap_0percent/\"\n",
    "dst_dir = \"/home/ubuntu/Desktop/Aerial_Image_Classification/100x100_overlap_0percent/val_images\"\n",
    "for i in range(len(val_data)):\n",
    "    \n",
    "    file_name = src_dir + val_data[0][i]\n",
    "    shutil.copy(file_name , dst_dir)"
   ]
  },
  {
   "cell_type": "code",
   "execution_count": null,
   "metadata": {},
   "outputs": [],
   "source": [
    "for i in range(len(val_data)):\n",
    "    val_data[0][i]=val_data[0][i][val_data[0][i].index('/')+1:]\n",
    "    val_data[1][i]=labels_tags[0][val_data[1][i]]"
   ]
  },
  {
   "cell_type": "code",
   "execution_count": null,
   "metadata": {},
   "outputs": [],
   "source": [
    "val_data.columns = ['ID', 'Labels'] \n",
    "val_data.to_csv('val_labels.csv', index=False) "
   ]
  },
  {
   "cell_type": "markdown",
   "metadata": {},
   "source": [
    "## Preparing the test data"
   ]
  },
  {
   "cell_type": "code",
   "execution_count": null,
   "metadata": {},
   "outputs": [],
   "source": [
    "mkdir test_images"
   ]
  },
  {
   "cell_type": "code",
   "execution_count": null,
   "metadata": {},
   "outputs": [],
   "source": [
    "src_dir = \"/home/ubuntu/Desktop/Aerial_Image_Classification/100x100_overlap_0percent/\" \n",
    "dst_dir = \"/home/ubuntu/Desktop/Aerial_Image_Classification/100x100_overlap_0percent/test_images\"\n",
    "for i in range(len(test_data)):\n",
    "    \n",
    "    file_name = src_dir + test_data[0][i]\n",
    "    shutil.copy(file_name , dst_dir)"
   ]
  },
  {
   "cell_type": "code",
   "execution_count": null,
   "metadata": {},
   "outputs": [],
   "source": [
    "for i in range(len(test_data)):\n",
    "    test_data[0][i]=test_data[0][i][test_data[0][i].index('/')+1:]\n",
    "    test_data[1][i]=labels_tags[0][test_data[1][i]]"
   ]
  },
  {
   "cell_type": "code",
   "execution_count": null,
   "metadata": {},
   "outputs": [],
   "source": [
    "test_data.columns = ['ID', 'Labels'] \n",
    "test_data.to_csv('test_labels.csv', index=False) "
   ]
  },
  {
   "cell_type": "markdown",
   "metadata": {},
   "source": [
    "<h2> To get the dataset </h2>\n",
    "\n",
    "<p> Now the dataset contains 100x100 aerial images of corresponging to the regions. </p>\n",
    "\n",
    "<p> The dataset structure is...\n",
    "\n",
    "<pre>parent_directory -----\n",
    "                      |\n",
    "                      |\n",
    "                      |--Train(Image folder) \n",
    "                      |           |\n",
    "                      |           |\n",
    "                      |           |--- Image0.jpg\n",
    "                      |           |--- Image1.jpg\n",
    "                      |             \n",
    "                      |\n",
    "                      |--Train labels (.csv file with labels)</pre>\n",
    "                      \n",
    "<p> Same structure for the validation and test data as well </p>"
   ]
  },
  {
   "cell_type": "markdown",
   "metadata": {},
   "source": [
    "## Loading the data into the project"
   ]
  },
  {
   "cell_type": "code",
   "execution_count": 3,
   "metadata": {},
   "outputs": [
    {
     "name": "stdout",
     "output_type": "stream",
     "text": [
      "Dataset Details\n",
      "    Train path:     100x100_overlap_0percent/train_data\n",
      "    Val path:       100x100_overlap_0percent/val_images\n",
      "    CSV train path: 100x100_overlap_0percent/train_labels.csv\n",
      "    CSV val path:   100x100_overlap_0percent/val_labels.csv\n",
      "    Label Type:     single\n",
      "\n",
      "Dataset Params\n",
      "    Input Size:  224\n",
      "    Batch Size:  4\n",
      "    Data Shuffle: True\n",
      "    Processors:   8\n",
      "    Delimiter:   ,\n",
      "\n",
      "Pre-Composed Train Transforms\n",
      "[{'RandomHorizontalFlip': {'p': 0.8}}, {'Normalize': {'mean': [0.485, 0.456, 0.406], 'std': [0.229, 0.224, 0.225]}}]\n",
      "\n",
      "Pre-Composed Val Transforms\n",
      "[{'RandomHorizontalFlip': {'p': 0.8}}, {'Normalize': {'mean': [0.485, 0.456, 0.406], 'std': [0.229, 0.224, 0.225]}}]\n",
      "\n",
      "Dataset Numbers\n",
      "    Num train images: 26460\n",
      "    Num val images:   11340\n",
      "    Num classes:      7\n",
      "\n",
      "Model Params\n",
      "    Model name:           alexnet\n",
      "    Use Gpu:              True\n",
      "    Use pretrained:       True\n",
      "    Freeze base network:  True\n",
      "\n",
      "Model Details\n",
      "    Loading pretrained model\n",
      "    Model Loaded on device\n",
      "        Model name:                           alexnet\n",
      "        Num layers in model:  8\n",
      "        Num trainable layers: 1\n",
      "\n",
      "Optimizer\n",
      "    Name:          sgd\n",
      "    Learning rate: 0.001\n",
      "    Params:        {'lr': 0.001, 'momentum': 0, 'weight_decay': 0, 'momentum_dampening_rate': 0, 'clipnorm': 0.0, 'clipvalue': 0.0}\n",
      "\n",
      "\n",
      "\n",
      "Learning rate scheduler\n",
      "    Name:   reduceonplateaulr\n",
      "    Params: {'mode': 'min', 'factor': 0.1, 'patience': 1, 'verbose': True, 'threshold': 0.0001, 'threshold_mode': 'rel', 'cooldown': 0, 'min_lr': 0, 'epsilon': 1e-08}\n",
      "\n",
      "Loss\n",
      "    Name:          softmaxcrossentropy\n",
      "    Params:        {'weight': None, 'batch_axis': 0, 'axis_to_sum_over': -1, 'label_as_categories': True, 'label_smoothing': False}\n",
      "\n",
      "Training params\n",
      "    Num Epochs: 5\n",
      "\n",
      "Display params\n",
      "    Display progress:          True\n",
      "    Display progress realtime: True\n",
      "    Save Training logs:        True\n",
      "    Save Intermediate models:  True\n",
      "    Intermediate model prefix: intermediate_model_\n",
      "\n"
     ]
    }
   ],
   "source": [
    "gtf.Default(dataset_path=[\"100x100_overlap_0percent/train_data\",\n",
    "                          \"100x100_overlap_0percent/val_images\"],\n",
    "            path_to_csv=[\"100x100_overlap_0percent/train_labels.csv\",\n",
    "                         \"100x100_overlap_0percent/val_labels.csv\"],\n",
    "            model_name=\"alexnet\", \n",
    "            num_epochs=5);"
   ]
  },
  {
   "cell_type": "markdown",
   "metadata": {},
   "source": [
    "## Start Training"
   ]
  },
  {
   "cell_type": "code",
   "execution_count": 4,
   "metadata": {},
   "outputs": [
    {
     "name": "stdout",
     "output_type": "stream",
     "text": [
      "Training Start\n",
      "    Epoch 1/5\n",
      "    ----------\n"
     ]
    },
    {
     "data": {
      "application/vnd.jupyter.widget-view+json": {
       "model_id": "2bf3842f0f22498ca69c398e2b7b347b",
       "version_major": 2,
       "version_minor": 0
      },
      "text/plain": [
       "HBox(children=(FloatProgress(value=0.0, max=6615.0), HTML(value='')))"
      ]
     },
     "metadata": {},
     "output_type": "display_data"
    },
    {
     "data": {
      "application/vnd.jupyter.widget-view+json": {
       "model_id": "fd3bb58633ce4136901dd2185571207c",
       "version_major": 2,
       "version_minor": 0
      },
      "text/plain": [
       "HBox(children=(FloatProgress(value=0.0, max=2835.0), HTML(value='')))"
      ]
     },
     "metadata": {},
     "output_type": "display_data"
    },
    {
     "name": "stdout",
     "output_type": "stream",
     "text": [
      "\n",
      "\n",
      "    curr_lr - 0.001\n",
      "    [Epoch 1] Train-acc: 0.776, Train-loss: 0.609 | Val-acc: 0.823721, Val-loss: 0.494, | time: 47.0 sec\n",
      "\n",
      "    Epoch 2/5\n",
      "    ----------\n"
     ]
    },
    {
     "data": {
      "application/vnd.jupyter.widget-view+json": {
       "model_id": "45ba077328234eb3846c976fb66781c6",
       "version_major": 2,
       "version_minor": 0
      },
      "text/plain": [
       "HBox(children=(FloatProgress(value=0.0, max=6615.0), HTML(value='')))"
      ]
     },
     "metadata": {},
     "output_type": "display_data"
    },
    {
     "data": {
      "application/vnd.jupyter.widget-view+json": {
       "model_id": "f3cff81c96814cf586ef1a35285b0a87",
       "version_major": 2,
       "version_minor": 0
      },
      "text/plain": [
       "HBox(children=(FloatProgress(value=0.0, max=2835.0), HTML(value='')))"
      ]
     },
     "metadata": {},
     "output_type": "display_data"
    },
    {
     "name": "stdout",
     "output_type": "stream",
     "text": [
      "\n",
      "\n",
      "    curr_lr - 0.001\n",
      "    [Epoch 2] Train-acc: 0.811, Train-loss: 0.523 | Val-acc: 0.817813, Val-loss: 0.508, | time: 47.6 sec\n",
      "\n",
      "    Epoch 3/5\n",
      "    ----------\n"
     ]
    },
    {
     "data": {
      "application/vnd.jupyter.widget-view+json": {
       "model_id": "8e6f196ac2524a59a7a67678b7d142d3",
       "version_major": 2,
       "version_minor": 0
      },
      "text/plain": [
       "HBox(children=(FloatProgress(value=0.0, max=6615.0), HTML(value='')))"
      ]
     },
     "metadata": {},
     "output_type": "display_data"
    },
    {
     "data": {
      "application/vnd.jupyter.widget-view+json": {
       "model_id": "ca70070891894d3da5bbfaf4baefdca2",
       "version_major": 2,
       "version_minor": 0
      },
      "text/plain": [
       "HBox(children=(FloatProgress(value=0.0, max=2835.0), HTML(value='')))"
      ]
     },
     "metadata": {},
     "output_type": "display_data"
    },
    {
     "name": "stdout",
     "output_type": "stream",
     "text": [
      "\n",
      "\n",
      "    curr_lr - 0.001\n",
      "    [Epoch 3] Train-acc: 0.818, Train-loss: 0.499 | Val-acc: 0.839330, Val-loss: 0.451, | time: 48.6 sec\n",
      "\n",
      "    Epoch 4/5\n",
      "    ----------\n"
     ]
    },
    {
     "data": {
      "application/vnd.jupyter.widget-view+json": {
       "model_id": "ac7a6ac3c72c4e57ac89d5b6c098f9ed",
       "version_major": 2,
       "version_minor": 0
      },
      "text/plain": [
       "HBox(children=(FloatProgress(value=0.0, max=6615.0), HTML(value='')))"
      ]
     },
     "metadata": {},
     "output_type": "display_data"
    },
    {
     "data": {
      "application/vnd.jupyter.widget-view+json": {
       "model_id": "eb37982a48a442a79b2c698dbaadfbc2",
       "version_major": 2,
       "version_minor": 0
      },
      "text/plain": [
       "HBox(children=(FloatProgress(value=0.0, max=2835.0), HTML(value='')))"
      ]
     },
     "metadata": {},
     "output_type": "display_data"
    },
    {
     "name": "stdout",
     "output_type": "stream",
     "text": [
      "\n",
      "\n",
      "    curr_lr - 0.001\n",
      "    [Epoch 4] Train-acc: 0.823, Train-loss: 0.485 | Val-acc: 0.842416, Val-loss: 0.446, | time: 48.1 sec\n",
      "\n",
      "    Epoch 5/5\n",
      "    ----------\n"
     ]
    },
    {
     "data": {
      "application/vnd.jupyter.widget-view+json": {
       "model_id": "6dd10d49e3d74232af1d0a3d5b628ea5",
       "version_major": 2,
       "version_minor": 0
      },
      "text/plain": [
       "HBox(children=(FloatProgress(value=0.0, max=6615.0), HTML(value='')))"
      ]
     },
     "metadata": {},
     "output_type": "display_data"
    },
    {
     "data": {
      "application/vnd.jupyter.widget-view+json": {
       "model_id": "ee6d4ba9c55b43cf8541635fe88b3fbd",
       "version_major": 2,
       "version_minor": 0
      },
      "text/plain": [
       "HBox(children=(FloatProgress(value=0.0, max=2835.0), HTML(value='')))"
      ]
     },
     "metadata": {},
     "output_type": "display_data"
    },
    {
     "name": "stdout",
     "output_type": "stream",
     "text": [
      "\n",
      "\n",
      "    curr_lr - 0.001\n",
      "    [Epoch 5] Train-acc: 0.828, Train-loss: 0.475 | Val-acc: 0.843474, Val-loss: 0.447, | time: 48.5 sec\n",
      "\n",
      "    Training completed in: 3m 56s\n",
      "    Best val Acc:          0.843474\n",
      "\n",
      "Training End\n",
      "\n",
      "Training Outputs\n",
      "    Model Dir:   /home/ubuntu/Desktop/Aerial_Image_Classification/workspace/Aerial-Image-Classifier/Alexnet/output/models/\n",
      "    Log Dir:     /home/ubuntu/Desktop/Aerial_Image_Classification/workspace/Aerial-Image-Classifier/Alexnet/output/logs/\n",
      "    Final model: final\n",
      "    Best model:  best_model\n",
      "    Log 1 - Validation accuracy history log: val_acc_history.npy\n",
      "    Log 2 - Validation loss history log:     val_loss_history.npy\n",
      "    Log 3 - Training accuracy history log:   train_acc_history.npy\n",
      "    Log 4 - Training loss history log:       train_loss_history.npy\n",
      "    Log 5 - Training curve:                  train_loss_history.npy\n",
      "    Log 6 - Validation curve:                train_loss_history.npy\n",
      "\n"
     ]
    },
    {
     "data": {
      "text/plain": [
       "<Figure size 432x288 with 0 Axes>"
      ]
     },
     "metadata": {},
     "output_type": "display_data"
    }
   ],
   "source": [
    "#Start Training\n",
    "gtf.Train();\n",
    "\n",
    "#Read the training summary generated once you run the cell and training is completed"
   ]
  },
  {
   "cell_type": "markdown",
   "metadata": {},
   "source": [
    "## Validating and testing the model performance"
   ]
  },
  {
   "cell_type": "code",
   "execution_count": 3,
   "metadata": {},
   "outputs": [
    {
     "name": "stdout",
     "output_type": "stream",
     "text": [
      "Pytorch Version: 1.4.0\n",
      "\n",
      "Model Details\n",
      "    Loading model - workspace/Aerial-Image-Classifier/Alexnet/output/models/final\n",
      "    Model loaded!\n",
      "\n",
      "Experiment Details\n",
      "    Project: Aerial-Image-Classifier\n",
      "    Experiment: Alexnet\n",
      "    Dir: /home/ubuntu/Desktop/Aerial_Image_Classification/workspace/Aerial-Image-Classifier/Alexnet/\n",
      "\n"
     ]
    }
   ],
   "source": [
    "\n",
    "\n",
    "gtf = prototype(verbose=1);\n",
    "gtf.Prototype(\"Aerial-Image-Classifier\", \"Alexnet\", eval_infer=True);\n",
    "\n"
   ]
  },
  {
   "cell_type": "markdown",
   "metadata": {},
   "source": [
    "### Loading the test dataset"
   ]
  },
  {
   "cell_type": "code",
   "execution_count": 6,
   "metadata": {},
   "outputs": [
    {
     "name": "stdout",
     "output_type": "stream",
     "text": [
      "Dataset Details\n",
      "    Test path:     100x100_overlap_0percent/test_images\n",
      "    CSV test path:  100x100_overlap_0percent/test_labels.csv\n",
      "\n",
      "Dataset Params\n",
      "    Input Size:  224\n",
      "    Processors:   8\n",
      "    Delimiter:   ,\n",
      "\n",
      "Pre-Composed Test Transforms\n",
      "[{'Normalize': {'mean': [0.485, 0.456, 0.406], 'std': [0.229, 0.224, 0.225]}}]\n",
      "\n",
      "Dataset Numbers\n",
      "    Num test images: 4200\n",
      "    Num classes:      7\n",
      "\n"
     ]
    }
   ],
   "source": [
    "gtf.Dataset_Params(dataset_path=\"100x100_overlap_0percent/test_images\",\n",
    "                   path_to_csv=\"100x100_overlap_0percent/test_labels.csv\");\n",
    "gtf.Dataset();"
   ]
  },
  {
   "cell_type": "markdown",
   "metadata": {},
   "source": [
    "### Checking the class based accuracy"
   ]
  },
  {
   "cell_type": "code",
   "execution_count": 7,
   "metadata": {},
   "outputs": [
    {
     "name": "stdout",
     "output_type": "stream",
     "text": [
      "Testing\n"
     ]
    },
    {
     "data": {
      "application/vnd.jupyter.widget-view+json": {
       "model_id": "8c1ed97732344ab8b016d11377c260bb",
       "version_major": 2,
       "version_minor": 0
      },
      "text/plain": [
       "HBox(children=(FloatProgress(value=0.0, max=4200.0), HTML(value='')))"
      ]
     },
     "metadata": {},
     "output_type": "display_data"
    },
    {
     "name": "stdout",
     "output_type": "stream",
     "text": [
      "\n",
      "    Result\n",
      "        class based accuracies\n",
      "            0. CEREALES - 62.0 %\n",
      "            1. EAUX - 98.16666666666667 %\n",
      "            2. FORETSDENSES - 82.0 %\n",
      "            3. PRAIRIES - 63.16666666666667 %\n",
      "            4. URBAINS - 91.83333333333333 %\n",
      "            5. VERGERS - 93.33333333333333 %\n",
      "            6. VIGNES - 98.16666666666667 %\n",
      "        total images:            4200\n",
      "        num correct predictions: 3532\n",
      "        Average accuracy (%):    84.0952380952381\n",
      "\n"
     ]
    }
   ],
   "source": [
    "accuracy, class_based_accuracy = gtf.Evaluate();"
   ]
  },
  {
   "cell_type": "markdown",
   "metadata": {},
   "source": [
    "### Checking on individual images"
   ]
  },
  {
   "cell_type": "code",
   "execution_count": 4,
   "metadata": {},
   "outputs": [
    {
     "name": "stdout",
     "output_type": "stream",
     "text": [
      "Prediction\n",
      "    Image name:         100x100_overlap_0percent/test_images/0_31x45.png\n",
      "    Predicted class:      FORETSDENSES\n",
      "    Predicted score:      0.9946599006652832\n",
      "\n"
     ]
    },
    {
     "data": {
      "image/png": "[encoded data removed]",
      "text/plain": [
       "<IPython.core.display.Image object>"
      ]
     },
     "execution_count": 4,
     "metadata": {
      "image/png": {
       "height": 300,
       "width": 300
      }
     },
     "output_type": "execute_result"
    }
   ],
   "source": [
    "img_name = \"100x100_overlap_0percent/test_images/0_31x45.png\";\n",
    "predictions = gtf.Infer(img_name=img_name);\n",
    "\n",
    "#Display \n",
    "from IPython.display import Image\n",
    "Image(filename=img_name,width=300, height=300)\n"
   ]
  },
  {
   "cell_type": "code",
   "execution_count": 5,
   "metadata": {},
   "outputs": [
    {
     "name": "stdout",
     "output_type": "stream",
     "text": [
      "Prediction\n",
      "    Image name:         100x100_overlap_0percent/test_images/0_60x9.png\n",
      "    Predicted class:      EAUX\n",
      "    Predicted score:      0.9931783676147461\n",
      "\n"
     ]
    },
    {
     "data": {
      "image/png": "[encoded data removed]",
      "text/plain": [
       "<IPython.core.display.Image object>"
      ]
     },
     "execution_count": 5,
     "metadata": {
      "image/png": {
       "height": 300,
       "width": 300
      }
     },
     "output_type": "execute_result"
    }
   ],
   "source": [
    "img_name = \"100x100_overlap_0percent/test_images/0_60x9.png\";\n",
    "predictions = gtf.Infer(img_name=img_name);\n",
    "\n",
    "#Display \n",
    "from IPython.display import Image\n",
    "Image(filename=img_name,width=300, height=300)\n",
    "\n",
    "#11_31x63.png #0_60x9.png #0_70x23.png #0_35x20.png"
   ]
  },
  {
   "cell_type": "code",
   "execution_count": 8,
   "metadata": {},
   "outputs": [
    {
     "name": "stdout",
     "output_type": "stream",
     "text": [
      "Prediction\n",
      "    Image name:         100x100_overlap_0percent/test_images/0_35x20.png\n",
      "    Predicted class:      FORETSDENSES\n",
      "    Predicted score:      0.9810529947280884\n",
      "\n"
     ]
    },
    {
     "data": {
      "image/png": "[encoded data removed]",
      "text/plain": [
       "<IPython.core.display.Image object>"
      ]
     },
     "execution_count": 8,
     "metadata": {
      "image/png": {
       "height": 300,
       "width": 300
      }
     },
     "output_type": "execute_result"
    }
   ],
   "source": [
    "img_name = \"100x100_overlap_0percent/test_images/0_35x20.png\";\n",
    "predictions = gtf.Infer(img_name=img_name);\n",
    "\n",
    "#Display \n",
    "from IPython.display import Image\n",
    "Image(filename=img_name,width=300, height=300)"
   ]
  },
  {
   "cell_type": "markdown",
   "metadata": {},
   "source": [
    "## Training a classifier using VGG-16"
   ]
  },
  {
   "cell_type": "code",
   "execution_count": 9,
   "metadata": {},
   "outputs": [
    {
     "name": "stdout",
     "output_type": "stream",
     "text": [
      "Pytorch Version: 1.4.0\n",
      "\n",
      "Experiment Details\n",
      "    Project: Aerial-Image-Classifier\n",
      "    Experiment: VGG-16\n",
      "    Dir: /home/ubuntu/Desktop/Aerial_Image_Classification/workspace/Aerial-Image-Classifier/VGG-16/\n",
      "\n"
     ]
    }
   ],
   "source": [
    "gtf = prototype(verbose=1);\n",
    "gtf.Prototype(\"Aerial-Image-Classifier\", \"VGG-16\");"
   ]
  },
  {
   "cell_type": "markdown",
   "metadata": {},
   "source": [
    "## Loading the dataset"
   ]
  },
  {
   "cell_type": "code",
   "execution_count": 10,
   "metadata": {},
   "outputs": [
    {
     "name": "stdout",
     "output_type": "stream",
     "text": [
      "Dataset Details\n",
      "    Train path:     100x100_overlap_0percent/train_data\n",
      "    Val path:       100x100_overlap_0percent/val_images\n",
      "    CSV train path: 100x100_overlap_0percent/train_labels.csv\n",
      "    CSV val path:   100x100_overlap_0percent/val_labels.csv\n",
      "    Label Type:     single\n",
      "\n",
      "Dataset Params\n",
      "    Input Size:  224\n",
      "    Batch Size:  4\n",
      "    Data Shuffle: True\n",
      "    Processors:   8\n",
      "    Delimiter:   ,\n",
      "\n",
      "Pre-Composed Train Transforms\n",
      "[{'RandomHorizontalFlip': {'p': 0.8}}, {'Normalize': {'mean': [0.485, 0.456, 0.406], 'std': [0.229, 0.224, 0.225]}}]\n",
      "\n",
      "Pre-Composed Val Transforms\n",
      "[{'RandomHorizontalFlip': {'p': 0.8}}, {'Normalize': {'mean': [0.485, 0.456, 0.406], 'std': [0.229, 0.224, 0.225]}}]\n",
      "\n",
      "Dataset Numbers\n",
      "    Num train images: 26460\n",
      "    Num val images:   11340\n",
      "    Num classes:      7\n",
      "\n",
      "Model Params\n",
      "    Model name:           vgg16\n",
      "    Use Gpu:              True\n",
      "    Use pretrained:       True\n",
      "    Freeze base network:  True\n",
      "\n",
      "Model Details\n",
      "    Loading pretrained model\n",
      "    Model Loaded on device\n",
      "        Model name:                           vgg16\n",
      "        Num layers in model:  16\n",
      "        Num trainable layers: 1\n",
      "\n",
      "Optimizer\n",
      "    Name:          sgd\n",
      "    Learning rate: 0.01\n",
      "    Params:        {'lr': 0.01, 'momentum': 0, 'weight_decay': 0, 'momentum_dampening_rate': 0, 'clipnorm': 0.0, 'clipvalue': 0.0}\n",
      "\n",
      "\n",
      "\n",
      "Learning rate scheduler\n",
      "    Name:   reduceonplateaulr\n",
      "    Params: {'mode': 'min', 'factor': 0.1, 'patience': 3, 'verbose': True, 'threshold': 0.0001, 'threshold_mode': 'rel', 'cooldown': 0, 'min_lr': 0, 'epsilon': 1e-08}\n",
      "\n",
      "Loss\n",
      "    Name:          softmaxcrossentropy\n",
      "    Params:        {'weight': None, 'batch_axis': 0, 'axis_to_sum_over': -1, 'label_as_categories': True, 'label_smoothing': False}\n",
      "\n",
      "Training params\n",
      "    Num Epochs: 10\n",
      "\n",
      "Display params\n",
      "    Display progress:          True\n",
      "    Display progress realtime: True\n",
      "    Save Training logs:        True\n",
      "    Save Intermediate models:  True\n",
      "    Intermediate model prefix: intermediate_model_\n",
      "\n"
     ]
    }
   ],
   "source": [
    "gtf.Default(dataset_path=[\"100x100_overlap_0percent/train_data\",\n",
    "                          \"100x100_overlap_0percent/val_images\"],\n",
    "            path_to_csv=[\"100x100_overlap_0percent/train_labels.csv\",\n",
    "                         \"100x100_overlap_0percent/val_labels.csv\"],\n",
    "            model_name=\"vgg16\", \n",
    "            num_epochs=10);"
   ]
  },
  {
   "cell_type": "markdown",
   "metadata": {},
   "source": [
    "#### Updating the learning rate for the model"
   ]
  },
  {
   "cell_type": "code",
   "execution_count": 11,
   "metadata": {},
   "outputs": [
    {
     "name": "stdout",
     "output_type": "stream",
     "text": [
      "Update: Learning Rate - 0.001\n",
      "\n",
      "Pre-Composed Train Transforms\n",
      "[{'RandomHorizontalFlip': {'p': 0.8}}, {'Normalize': {'mean': [0.485, 0.456, 0.406], 'std': [0.229, 0.224, 0.225]}}]\n",
      "\n",
      "Pre-Composed Val Transforms\n",
      "[{'RandomHorizontalFlip': {'p': 0.8}}, {'Normalize': {'mean': [0.485, 0.456, 0.406], 'std': [0.229, 0.224, 0.225]}}]\n",
      "\n",
      "Dataset Numbers\n",
      "    Num train images: 26460\n",
      "    Num val images:   11340\n",
      "    Num classes:      7\n",
      "\n",
      "Model Details\n",
      "    Loading pretrained model\n",
      "    Model Loaded on device\n",
      "        Model name:                           vgg16\n",
      "        Num layers in model:  16\n",
      "        Num trainable layers: 1\n",
      "\n"
     ]
    }
   ],
   "source": [
    "gtf.update_learning_rate(0.001);\n",
    "\n",
    "# Very important to reload post updates\n",
    "gtf.Reload();"
   ]
  },
  {
   "cell_type": "markdown",
   "metadata": {},
   "source": [
    "### Start Training"
   ]
  },
  {
   "cell_type": "code",
   "execution_count": 12,
   "metadata": {},
   "outputs": [
    {
     "name": "stdout",
     "output_type": "stream",
     "text": [
      "Training Start\n",
      "    Epoch 1/10\n",
      "    ----------\n"
     ]
    },
    {
     "data": {
      "application/vnd.jupyter.widget-view+json": {
       "model_id": "0316b1098df94c0ba3e1f8195a15f6b2",
       "version_major": 2,
       "version_minor": 0
      },
      "text/plain": [
       "HBox(children=(FloatProgress(value=0.0, max=6615.0), HTML(value='')))"
      ]
     },
     "metadata": {},
     "output_type": "display_data"
    },
    {
     "data": {
      "application/vnd.jupyter.widget-view+json": {
       "model_id": "c5679baa747743f4a80e2ae9046c8e7e",
       "version_major": 2,
       "version_minor": 0
      },
      "text/plain": [
       "HBox(children=(FloatProgress(value=0.0, max=2835.0), HTML(value='')))"
      ]
     },
     "metadata": {},
     "output_type": "display_data"
    },
    {
     "name": "stdout",
     "output_type": "stream",
     "text": [
      "\n",
      "\n",
      "    curr_lr - 0.001\n",
      "    [Epoch 1] Train-acc: 0.744, Train-loss: 0.747 | Val-acc: 0.791358, Val-loss: 0.599, | time: 101.5 sec\n",
      "\n",
      "    Epoch 2/10\n",
      "    ----------\n"
     ]
    },
    {
     "data": {
      "application/vnd.jupyter.widget-view+json": {
       "model_id": "320db15c350046fdadad4b8639f4e2c4",
       "version_major": 2,
       "version_minor": 0
      },
      "text/plain": [
       "HBox(children=(FloatProgress(value=0.0, max=6615.0), HTML(value='')))"
      ]
     },
     "metadata": {},
     "output_type": "display_data"
    },
    {
     "data": {
      "application/vnd.jupyter.widget-view+json": {
       "model_id": "34b6ef378d044333a41cd16f8ef90fbd",
       "version_major": 2,
       "version_minor": 0
      },
      "text/plain": [
       "HBox(children=(FloatProgress(value=0.0, max=2835.0), HTML(value='')))"
      ]
     },
     "metadata": {},
     "output_type": "display_data"
    },
    {
     "name": "stdout",
     "output_type": "stream",
     "text": [
      "\n",
      "\n",
      "    curr_lr - 0.001\n",
      "    [Epoch 2] Train-acc: 0.782, Train-loss: 0.617 | Val-acc: 0.795767, Val-loss: 0.561, | time: 104.9 sec\n",
      "\n",
      "    Epoch 3/10\n",
      "    ----------\n"
     ]
    },
    {
     "data": {
      "application/vnd.jupyter.widget-view+json": {
       "model_id": "c88211ff345f4faea6de4c8c6173d6fa",
       "version_major": 2,
       "version_minor": 0
      },
      "text/plain": [
       "HBox(children=(FloatProgress(value=0.0, max=6615.0), HTML(value='')))"
      ]
     },
     "metadata": {},
     "output_type": "display_data"
    },
    {
     "data": {
      "application/vnd.jupyter.widget-view+json": {
       "model_id": "b7b356ec5ce14a9394f72dc0eaccad2a",
       "version_major": 2,
       "version_minor": 0
      },
      "text/plain": [
       "HBox(children=(FloatProgress(value=0.0, max=2835.0), HTML(value='')))"
      ]
     },
     "metadata": {},
     "output_type": "display_data"
    },
    {
     "name": "stdout",
     "output_type": "stream",
     "text": [
      "\n",
      "\n",
      "    curr_lr - 0.001\n",
      "    [Epoch 3] Train-acc: 0.789, Train-loss: 0.590 | Val-acc: 0.806878, Val-loss: 0.535, | time: 105.6 sec\n",
      "\n",
      "    Epoch 4/10\n",
      "    ----------\n"
     ]
    },
    {
     "data": {
      "application/vnd.jupyter.widget-view+json": {
       "model_id": "cf99954f6b874ccea0caee04a505367c",
       "version_major": 2,
       "version_minor": 0
      },
      "text/plain": [
       "HBox(children=(FloatProgress(value=0.0, max=6615.0), HTML(value='')))"
      ]
     },
     "metadata": {},
     "output_type": "display_data"
    },
    {
     "data": {
      "application/vnd.jupyter.widget-view+json": {
       "model_id": "1e51736e469243b4a7145b89308df1c3",
       "version_major": 2,
       "version_minor": 0
      },
      "text/plain": [
       "HBox(children=(FloatProgress(value=0.0, max=2835.0), HTML(value='')))"
      ]
     },
     "metadata": {},
     "output_type": "display_data"
    },
    {
     "name": "stdout",
     "output_type": "stream",
     "text": [
      "\n",
      "\n",
      "    curr_lr - 0.001\n",
      "    [Epoch 4] Train-acc: 0.794, Train-loss: 0.573 | Val-acc: 0.812346, Val-loss: 0.519, | time: 105.1 sec\n",
      "\n",
      "    Epoch 5/10\n",
      "    ----------\n"
     ]
    },
    {
     "data": {
      "application/vnd.jupyter.widget-view+json": {
       "model_id": "7aaeb762fe5846efbd53271c798137c2",
       "version_major": 2,
       "version_minor": 0
      },
      "text/plain": [
       "HBox(children=(FloatProgress(value=0.0, max=6615.0), HTML(value='')))"
      ]
     },
     "metadata": {},
     "output_type": "display_data"
    },
    {
     "data": {
      "application/vnd.jupyter.widget-view+json": {
       "model_id": "2beeb28a2c21412f822c3f7c1b065210",
       "version_major": 2,
       "version_minor": 0
      },
      "text/plain": [
       "HBox(children=(FloatProgress(value=0.0, max=2835.0), HTML(value='')))"
      ]
     },
     "metadata": {},
     "output_type": "display_data"
    },
    {
     "name": "stdout",
     "output_type": "stream",
     "text": [
      "\n",
      "\n",
      "    curr_lr - 0.001\n",
      "    [Epoch 5] Train-acc: 0.798, Train-loss: 0.560 | Val-acc: 0.813757, Val-loss: 0.513, | time: 105.3 sec\n",
      "\n",
      "    Epoch 6/10\n",
      "    ----------\n"
     ]
    },
    {
     "data": {
      "application/vnd.jupyter.widget-view+json": {
       "model_id": "8b9b3704420d4798b9ed3e9be4a575dc",
       "version_major": 2,
       "version_minor": 0
      },
      "text/plain": [
       "HBox(children=(FloatProgress(value=0.0, max=6615.0), HTML(value='')))"
      ]
     },
     "metadata": {},
     "output_type": "display_data"
    },
    {
     "data": {
      "application/vnd.jupyter.widget-view+json": {
       "model_id": "68f4e32f40354f59b808e8db2ab9e938",
       "version_major": 2,
       "version_minor": 0
      },
      "text/plain": [
       "HBox(children=(FloatProgress(value=0.0, max=2835.0), HTML(value='')))"
      ]
     },
     "metadata": {},
     "output_type": "display_data"
    },
    {
     "name": "stdout",
     "output_type": "stream",
     "text": [
      "\n",
      "\n",
      "    curr_lr - 0.001\n",
      "    [Epoch 6] Train-acc: 0.803, Train-loss: 0.551 | Val-acc: 0.822310, Val-loss: 0.501, | time: 105.1 sec\n",
      "\n",
      "    Epoch 7/10\n",
      "    ----------\n"
     ]
    },
    {
     "data": {
      "application/vnd.jupyter.widget-view+json": {
       "model_id": "962ae59b8ee24e04ba5f30023a02100d",
       "version_major": 2,
       "version_minor": 0
      },
      "text/plain": [
       "HBox(children=(FloatProgress(value=0.0, max=6615.0), HTML(value='')))"
      ]
     },
     "metadata": {},
     "output_type": "display_data"
    },
    {
     "data": {
      "application/vnd.jupyter.widget-view+json": {
       "model_id": "f69929ab81294b39b867150deea7284f",
       "version_major": 2,
       "version_minor": 0
      },
      "text/plain": [
       "HBox(children=(FloatProgress(value=0.0, max=2835.0), HTML(value='')))"
      ]
     },
     "metadata": {},
     "output_type": "display_data"
    },
    {
     "name": "stdout",
     "output_type": "stream",
     "text": [
      "\n",
      "\n",
      "    curr_lr - 0.001\n",
      "    [Epoch 7] Train-acc: 0.803, Train-loss: 0.544 | Val-acc: 0.822487, Val-loss: 0.493, | time: 105.7 sec\n",
      "\n",
      "    Epoch 8/10\n",
      "    ----------\n"
     ]
    },
    {
     "data": {
      "application/vnd.jupyter.widget-view+json": {
       "model_id": "1893db25277c489cafbfe8e24006c18a",
       "version_major": 2,
       "version_minor": 0
      },
      "text/plain": [
       "HBox(children=(FloatProgress(value=0.0, max=6615.0), HTML(value='')))"
      ]
     },
     "metadata": {},
     "output_type": "display_data"
    },
    {
     "data": {
      "application/vnd.jupyter.widget-view+json": {
       "model_id": "07ae1d59227e4c6bac91fb4109603518",
       "version_major": 2,
       "version_minor": 0
      },
      "text/plain": [
       "HBox(children=(FloatProgress(value=0.0, max=2835.0), HTML(value='')))"
      ]
     },
     "metadata": {},
     "output_type": "display_data"
    },
    {
     "name": "stdout",
     "output_type": "stream",
     "text": [
      "\n",
      "\n",
      "    curr_lr - 0.001\n",
      "    [Epoch 8] Train-acc: 0.808, Train-loss: 0.534 | Val-acc: 0.821605, Val-loss: 0.491, | time: 102.9 sec\n",
      "\n",
      "    Epoch 9/10\n",
      "    ----------\n"
     ]
    },
    {
     "data": {
      "application/vnd.jupyter.widget-view+json": {
       "model_id": "76083ae2132745ecbe81942d3aebaaf8",
       "version_major": 2,
       "version_minor": 0
      },
      "text/plain": [
       "HBox(children=(FloatProgress(value=0.0, max=6615.0), HTML(value='')))"
      ]
     },
     "metadata": {},
     "output_type": "display_data"
    },
    {
     "data": {
      "application/vnd.jupyter.widget-view+json": {
       "model_id": "a9f4190fce1d4a9f99c529f4b34b1901",
       "version_major": 2,
       "version_minor": 0
      },
      "text/plain": [
       "HBox(children=(FloatProgress(value=0.0, max=2835.0), HTML(value='')))"
      ]
     },
     "metadata": {},
     "output_type": "display_data"
    },
    {
     "name": "stdout",
     "output_type": "stream",
     "text": [
      "\n",
      "\n",
      "    curr_lr - 0.001\n",
      "    [Epoch 9] Train-acc: 0.809, Train-loss: 0.536 | Val-acc: 0.829453, Val-loss: 0.480, | time: 105.0 sec\n",
      "\n",
      "    Epoch 10/10\n",
      "    ----------\n"
     ]
    },
    {
     "data": {
      "application/vnd.jupyter.widget-view+json": {
       "model_id": "e1d81eb262f74592b1e33126248a7a3e",
       "version_major": 2,
       "version_minor": 0
      },
      "text/plain": [
       "HBox(children=(FloatProgress(value=0.0, max=6615.0), HTML(value='')))"
      ]
     },
     "metadata": {},
     "output_type": "display_data"
    },
    {
     "data": {
      "application/vnd.jupyter.widget-view+json": {
       "model_id": "997a242b9bbf42249f00f28137326a10",
       "version_major": 2,
       "version_minor": 0
      },
      "text/plain": [
       "HBox(children=(FloatProgress(value=0.0, max=2835.0), HTML(value='')))"
      ]
     },
     "metadata": {},
     "output_type": "display_data"
    },
    {
     "name": "stdout",
     "output_type": "stream",
     "text": [
      "\n",
      "\n",
      "    curr_lr - 0.001\n",
      "    [Epoch 10] Train-acc: 0.811, Train-loss: 0.526 | Val-acc: 0.830335, Val-loss: 0.478, | time: 105.5 sec\n",
      "\n",
      "    Training completed in: 17m 1s\n",
      "    Best val Acc:          0.830335\n",
      "\n",
      "Training End\n",
      "\n",
      "Training Outputs\n",
      "    Model Dir:   /home/ubuntu/Desktop/Aerial_Image_Classification/workspace/Aerial-Image-Classifier/VGG-16/output/models/\n",
      "    Log Dir:     /home/ubuntu/Desktop/Aerial_Image_Classification/workspace/Aerial-Image-Classifier/VGG-16/output/logs/\n",
      "    Final model: final\n",
      "    Best model:  best_model\n",
      "    Log 1 - Validation accuracy history log: val_acc_history.npy\n",
      "    Log 2 - Validation loss history log:     val_loss_history.npy\n",
      "    Log 3 - Training accuracy history log:   train_acc_history.npy\n",
      "    Log 4 - Training loss history log:       train_loss_history.npy\n",
      "    Log 5 - Training curve:                  train_loss_history.npy\n",
      "    Log 6 - Validation curve:                train_loss_history.npy\n",
      "\n"
     ]
    },
    {
     "data": {
      "text/plain": [
       "<Figure size 432x288 with 0 Axes>"
      ]
     },
     "metadata": {},
     "output_type": "display_data"
    }
   ],
   "source": [
    "gtf.Train()"
   ]
  },
  {
   "cell_type": "markdown",
   "metadata": {},
   "source": [
    "### Validating and testing the model"
   ]
  },
  {
   "cell_type": "code",
   "execution_count": 14,
   "metadata": {},
   "outputs": [
    {
     "name": "stdout",
     "output_type": "stream",
     "text": [
      "Pytorch Version: 1.4.0\n",
      "\n",
      "Model Details\n",
      "    Loading model - workspace/Aerial-Image-Classifier/VGG-16/output/models/final\n",
      "    Model loaded!\n",
      "\n",
      "Experiment Details\n",
      "    Project: Aerial-Image-Classifier\n",
      "    Experiment: VGG-16\n",
      "    Dir: /home/ubuntu/Desktop/Aerial_Image_Classification/workspace/Aerial-Image-Classifier/VGG-16/\n",
      "\n"
     ]
    }
   ],
   "source": [
    "gtf = prototype(verbose=1);\n",
    "\n",
    "gtf.Prototype(\"Aerial-Image-Classifier\", \"VGG-16\", eval_infer=True);\n"
   ]
  },
  {
   "cell_type": "markdown",
   "metadata": {},
   "source": [
    "### Loading the test data"
   ]
  },
  {
   "cell_type": "code",
   "execution_count": 15,
   "metadata": {},
   "outputs": [
    {
     "name": "stdout",
     "output_type": "stream",
     "text": [
      "Dataset Details\n",
      "    Test path:     100x100_overlap_0percent/test_images\n",
      "    CSV test path:  100x100_overlap_0percent/test_labels.csv\n",
      "\n",
      "Dataset Params\n",
      "    Input Size:  224\n",
      "    Processors:   8\n",
      "    Delimiter:   ,\n",
      "\n",
      "Pre-Composed Test Transforms\n",
      "[{'Normalize': {'mean': [0.485, 0.456, 0.406], 'std': [0.229, 0.224, 0.225]}}]\n",
      "\n",
      "Dataset Numbers\n",
      "    Num test images: 4200\n",
      "    Num classes:      7\n",
      "\n"
     ]
    }
   ],
   "source": [
    "gtf.Dataset_Params(dataset_path=\"100x100_overlap_0percent/test_images\",\n",
    "                   path_to_csv=\"100x100_overlap_0percent/test_labels.csv\");\n",
    "gtf.Dataset();"
   ]
  },
  {
   "cell_type": "markdown",
   "metadata": {},
   "source": [
    "### Checking Class-based accuracy"
   ]
  },
  {
   "cell_type": "code",
   "execution_count": 16,
   "metadata": {},
   "outputs": [
    {
     "name": "stdout",
     "output_type": "stream",
     "text": [
      "Testing\n"
     ]
    },
    {
     "data": {
      "application/vnd.jupyter.widget-view+json": {
       "model_id": "94d4743114064c33b141fa6021272629",
       "version_major": 2,
       "version_minor": 0
      },
      "text/plain": [
       "HBox(children=(FloatProgress(value=0.0, max=4200.0), HTML(value='')))"
      ]
     },
     "metadata": {},
     "output_type": "display_data"
    },
    {
     "name": "stdout",
     "output_type": "stream",
     "text": [
      "\n",
      "    Result\n",
      "        class based accuracies\n",
      "            0. CEREALES - 75.16666666666667 %\n",
      "            1. EAUX - 95.83333333333334 %\n",
      "            2. FORETSDENSES - 81.0 %\n",
      "            3. PRAIRIES - 53.5 %\n",
      "            4. URBAINS - 86.5 %\n",
      "            5. VERGERS - 91.66666666666666 %\n",
      "            6. VIGNES - 94.0 %\n",
      "        total images:            4200\n",
      "        num correct predictions: 3466\n",
      "        Average accuracy (%):    82.52380952380952\n",
      "\n"
     ]
    }
   ],
   "source": [
    "accuracy, class_based_accuracy = gtf.Evaluate();"
   ]
  },
  {
   "cell_type": "markdown",
   "metadata": {},
   "source": [
    "### Testing the model on test-images"
   ]
  },
  {
   "cell_type": "code",
   "execution_count": 17,
   "metadata": {},
   "outputs": [
    {
     "name": "stdout",
     "output_type": "stream",
     "text": [
      "Prediction\n",
      "    Image name:         100x100_overlap_0percent/test_images/0_31x45.png\n",
      "    Predicted class:      FORETSDENSES\n",
      "    Predicted score:      0.9406972527503967\n",
      "\n"
     ]
    },
    {
     "data": {
      "image/png": "[encoded data removed]",
      "text/plain": [
       "<IPython.core.display.Image object>"
      ]
     },
     "execution_count": 17,
     "metadata": {
      "image/png": {
       "height": 300,
       "width": 300
      }
     },
     "output_type": "execute_result"
    }
   ],
   "source": [
    "img_name = \"100x100_overlap_0percent/test_images/0_31x45.png\";\n",
    "predictions = gtf.Infer(img_name=img_name);\n",
    "\n",
    "#Display \n",
    "from IPython.display import Image\n",
    "Image(filename=img_name,width=300, height=300)"
   ]
  },
  {
   "cell_type": "code",
   "execution_count": 18,
   "metadata": {},
   "outputs": [
    {
     "name": "stdout",
     "output_type": "stream",
     "text": [
      "Prediction\n",
      "    Image name:         100x100_overlap_0percent/test_images/44_50x50.png\n",
      "    Predicted class:      URBAINS\n",
      "    Predicted score:      0.9968454837799072\n",
      "\n"
     ]
    },
    {
     "data": {
      "image/png": "[encoded data removed]",
      "text/plain": [
       "<IPython.core.display.Image object>"
      ]
     },
     "execution_count": 18,
     "metadata": {
      "image/png": {
       "height": 300,
       "width": 300
      }
     },
     "output_type": "execute_result"
    }
   ],
   "source": [
    "img_name = \"100x100_overlap_0percent/test_images/44_50x50.png\";\n",
    "predictions = gtf.Infer(img_name=img_name);\n",
    "\n",
    "#Display \n",
    "from IPython.display import Image\n",
    "Image(filename=img_name,width=300, height=300)"
   ]
  }
 ],
 "metadata": {
  "kernelspec": {
   "display_name": "Python 3",
   "language": "python",
   "name": "python3"
  },
  "language_info": {
   "codemirror_mode": {
    "name": "ipython",
    "version": 3
   },
   "file_extension": ".py",
   "mimetype": "text/x-python",
   "name": "python",
   "nbconvert_exporter": "python",
   "pygments_lexer": "ipython3",
   "version": "3.6.9"
  }
 },
 "nbformat": 4,
 "nbformat_minor": 4
}
